{
  "cells": [
    {
      "cell_type": "markdown",
      "metadata": {
        "id": "view-in-github",
        "colab_type": "text"
      },
      "source": [
        "<a href=\"https://colab.research.google.com/github/Pramod-rr/rag_chatbot/blob/main/Simple_rag_system.ipynb\" target=\"_parent\"><img src=\"https://colab.research.google.com/assets/colab-badge.svg\" alt=\"Open In Colab\"/></a>"
      ]
    },
    {
      "cell_type": "code",
      "execution_count": null,
      "metadata": {
        "colab": {
          "base_uri": "https://localhost:8080/"
        },
        "id": "9Q7V0M55NVw7",
        "outputId": "25c69b04-356b-450c-8961-9497b6d9f3e0"
      },
      "outputs": [
        {
          "name": "stdout",
          "output_type": "stream",
          "text": [
            "Requirement already satisfied: numpy in /usr/local/lib/python3.12/dist-packages (2.0.2)\n"
          ]
        }
      ],
      "source": [
        "!pip install torch -q\n",
        "!pip install transformers -q\n",
        "!pip install numpy\n",
        "!pip install langchain -q\n",
        "!pip install langchain_community -q\n",
        "!pip install langchain-chroma -q\n",
        "!pip install sentence_transformers -q"
      ]
    },
    {
      "cell_type": "code",
      "execution_count": null,
      "metadata": {
        "id": "2EENK14qJTu-"
      },
      "outputs": [],
      "source": [
        "import os\n",
        "from google.colab import userdata\n"
      ]
    },
    {
      "cell_type": "code",
      "execution_count": null,
      "metadata": {
        "colab": {
          "base_uri": "https://localhost:8080/"
        },
        "id": "Fz4QvDfbKqzr",
        "outputId": "34fd1e23-f5d9-4298-ffe7-1aead3bd2ef0"
      },
      "outputs": [
        {
          "name": "stderr",
          "output_type": "stream",
          "text": [
            "/tmp/ipython-input-2429844141.py:3: LangChainDeprecationWarning: The class `HuggingFaceEmbeddings` was deprecated in LangChain 0.2.2 and will be removed in 1.0. An updated version of the class exists in the :class:`~langchain-huggingface package and should be used instead. To use it run `pip install -U :class:`~langchain-huggingface` and import as `from :class:`~langchain_huggingface import HuggingFaceEmbeddings``.\n",
            "  embedding_model = HuggingFaceEmbeddings(\n",
            "/usr/local/lib/python3.12/dist-packages/huggingface_hub/utils/_auth.py:94: UserWarning: \n",
            "The secret `HF_TOKEN` does not exist in your Colab secrets.\n",
            "To authenticate with the Hugging Face Hub, create a token in your settings tab (https://huggingface.co/settings/tokens), set it as secret in your Google Colab and restart your session.\n",
            "You will be able to reuse this secret in all of your notebooks.\n",
            "Please note that authentication is recommended but still optional to access public models or datasets.\n",
            "  warnings.warn(\n"
          ]
        }
      ],
      "source": [
        "from langchain.embeddings import HuggingFaceEmbeddings\n",
        "\n",
        "embedding_model = HuggingFaceEmbeddings(\n",
        "  model_name=\"Sentence-transformers/all-mpnet-base-v2\"\n",
        ")"
      ]
    },
    {
      "cell_type": "code",
      "execution_count": null,
      "metadata": {
        "colab": {
          "base_uri": "https://localhost:8080/",
          "height": 138,
          "referenced_widgets": [
            "32ad4a35881b476a9aa4685ff0824cc5",
            "12e6e5d6fd1347769a5008781124fd78",
            "c58e6fd51d444b57ab7e1d02934cbb9e",
            "00a71534d3724828ae36cf2718ca146e",
            "bc67913aac4a49b8a37e87f8eeade4ef",
            "0a2c5d0072a646d88a92a28f95052217",
            "255a5b28732348658997c0239f5613bb",
            "4835ee0ed1554704b69ca26eb7e7ab5c",
            "b5962a3b9cbb40359fc211fec54cec09",
            "70707e84c04d4c4c803c833fa5e9b994",
            "776056f6d5bd4592b93dcae9b3d9cd7f"
          ]
        },
        "id": "uuCw4LFv1fbF",
        "outputId": "834d05ff-3225-4025-94b8-00c65c653fd8"
      },
      "outputs": [
        {
          "data": {
            "application/vnd.jupyter.widget-view+json": {
              "model_id": "32ad4a35881b476a9aa4685ff0824cc5",
              "version_major": 2,
              "version_minor": 0
            },
            "text/plain": [
              "Loading checkpoint shards:   0%|          | 0/3 [00:00<?, ?it/s]"
            ]
          },
          "metadata": {},
          "output_type": "display_data"
        },
        {
          "name": "stderr",
          "output_type": "stream",
          "text": [
            "WARNING:accelerate.big_modeling:Some parameters are on the meta device because they were offloaded to the cpu.\n",
            "Device set to use cuda:0\n",
            "/tmp/ipython-input-2440115156.py:25: LangChainDeprecationWarning: The class `HuggingFacePipeline` was deprecated in LangChain 0.0.37 and will be removed in 1.0. An updated version of the class exists in the :class:`~langchain-huggingface package and should be used instead. To use it run `pip install -U :class:`~langchain-huggingface` and import as `from :class:`~langchain_huggingface import HuggingFacePipeline``.\n",
            "  llm = HuggingFacePipeline(pipeline=pipe)\n"
          ]
        }
      ],
      "source": [
        "from langchain.chains import RetrievalQA\n",
        "from langchain.prompts import PromptTemplate\n",
        "from langchain_community.llms import HuggingFacePipeline\n",
        "from transformers import pipeline, AutoModelForCausalLM, AutoTokenizer\n",
        "import torch\n",
        "\n",
        "model_id = \"mistralai/Mistral-7B-Instruct-v0.2\"\n",
        "huggingface_api_token = userdata.get('HUGGINGFACE_API_TOKEN')\n",
        "tokenizer = AutoTokenizer.from_pretrained(model_id, token=huggingface_api_token)\n",
        "model = AutoModelForCausalLM.from_pretrained(model_id, device_map=\"auto\", torch_dtype=torch.bfloat16, token=huggingface_api_token)\n",
        "\n",
        "# Create a text generation pipeline\n",
        "pipe = pipeline(\n",
        "    \"text-generation\",\n",
        "    model=model,\n",
        "    tokenizer=tokenizer,\n",
        "    max_new_tokens=256,\n",
        "    do_sample=True,\n",
        "    temperature=0.1, # Use temperature here as before\n",
        "    trust_remote_code=True,\n",
        "    device_map=\"auto\",\n",
        ")\n",
        "\n",
        "# Initialize the HuggingFace llm using the pipeline\n",
        "llm = HuggingFacePipeline(pipeline=pipe)"
      ]
    },
    {
      "cell_type": "code",
      "execution_count": null,
      "metadata": {
        "id": "0yaAsyuhnohH"
      },
      "outputs": [],
      "source": [
        "from langchain.schema.output_parser import StrOutputParser\n",
        "\n",
        "output_parser=StrOutputParser()"
      ]
    },
    {
      "cell_type": "code",
      "execution_count": null,
      "metadata": {
        "colab": {
          "base_uri": "https://localhost:8080/"
        },
        "id": "2Nw-OlEIoEiN",
        "outputId": "e1c20225-ded6-40e7-bd44-f0cc90dbc476"
      },
      "outputs": [
        {
          "name": "stdout",
          "output_type": "stream",
          "text": [
            "\n",
            "Usage:   \n",
            "  pip3 install [options] <requirement specifier> [package-index-options] ...\n",
            "  pip3 install [options] -r <requirements file> [package-index-options] ...\n",
            "  pip3 install [options] [-e] <vcs project url> ...\n",
            "  pip3 install [options] [-e] <local project path> ...\n",
            "  pip3 install [options] <archive url/path> ...\n",
            "\n",
            "no such option: -u\n"
          ]
        }
      ],
      "source": [
        "!pip install pypdf -qu"
      ]
    },
    {
      "cell_type": "code",
      "execution_count": null,
      "metadata": {
        "colab": {
          "base_uri": "https://localhost:8080/"
        },
        "id": "XApdq2k5r6O3",
        "outputId": "3d2b905f-da40-4f7c-c9dc-3aea5057e8d8"
      },
      "outputs": [
        {
          "name": "stdout",
          "output_type": "stream",
          "text": [
            "Requirement already satisfied: pypdf in /usr/local/lib/python3.12/dist-packages (6.0.0)\n"
          ]
        }
      ],
      "source": [
        "!pip install pypdf"
      ]
    },
    {
      "cell_type": "code",
      "execution_count": null,
      "metadata": {
        "id": "JpAJcXgin9f5"
      },
      "outputs": [],
      "source": [
        "from langchain_community.document_loaders import PyPDFLoader\n",
        "\n",
        "# Load the PDF document\n",
        "loader = PyPDFLoader(\"/content/mml-book.pdf\")\n",
        "\n",
        "docs = loader.load()"
      ]
    },
    {
      "cell_type": "code",
      "execution_count": null,
      "metadata": {
        "colab": {
          "base_uri": "https://localhost:8080/"
        },
        "id": "5fGU3OAsoNiN",
        "outputId": "100610f1-05a4-488f-f6ad-414ac53b7f1c"
      },
      "outputs": [
        {
          "data": {
            "text/plain": [
              "Document(metadata={'producer': 'pdfTeX-1.40.22', 'creator': 'LaTeX with hyperref', 'creationdate': '2023-02-15T16:21:30+00:00', 'author': 'Marc Peter Deisenroth, A. Aldo Faisal, Cheng Soon Ong', 'title': 'Mathematics for Machine Learning', 'subject': '', 'keywords': '', 'moddate': '2023-02-15T16:21:30+00:00', 'trapped': '/False', 'ptex.fullbanner': 'This is pdfTeX, Version 3.141592653-2.6-1.40.22 (TeX Live 2022/dev/Debian) kpathsea version 6.3.4/dev', 'source': '/content/mml-book.pdf', 'total_pages': 412, 'page': 0, 'page_label': '1'}, page_content='MATHEMATICS  FOR \\nMACHINE LEAR NING\\nMarc Peter Deisenroth\\nA. Aldo Faisal\\nCheng Soon On g\\nMATHEMATICS FOR MACHINE LEARNING DEISENROTH ET AL.\\nThe fundamental mathematical tools needed to understand machine \\nlearning include linear algebra, analytic geometry, matrix decompositions, \\nvector calculus, optimization, probability and statistics. These topics \\nare traditionally taught in disparate courses, making it hard for data \\nscience or computer science students, or professionals, to efﬁ  ciently learn \\nthe mathematics. This self-contained textbook bridges the gap between \\nmathematical and machine learning texts, introducing the mathematical \\nconcepts with a minimum of prerequisites. It uses these concepts to \\nderive four central machine learning methods: linear regression, principal \\ncomponent analysis, Gaussian mixture models and support vector machines. \\nFor students and others with a mathematical background, these derivations \\nprovide a starting point to machine learning texts. For those learning the \\nmathematics for the ﬁ  rst time, the methods help build intuition and practical \\nexperience with applying mathematical concepts. Every chapter includes \\nworked examples and exercises to test understanding. Programming \\ntutorials are offered on the book’s web site.\\nMARC PETER DEISENROTH  is Senior Lecturer in Statistical Machine \\nLearning at the Department of Computing, Împerial College London.\\nA. ALDO FAISAL  leads the Brain & Behaviour Lab at Imperial College \\nLondon, where he is also Reader in Neurotechnology at the Department of \\nBioengineering and the Department of Computing.\\nCHENG SOON ONG  is Principal Research Scientist at the Machine Learning \\nResearch Group, Data61, CSIRO. He is also Adjunct Associate Professor at \\nAustralian National University.\\nCover image courtesy of Daniel Bosma / Moment / Getty Images\\nCover design by Holly Johnson\\nDeisenrith et al. 9781108455145 Cover. C M Y K')"
            ]
          },
          "execution_count": 9,
          "metadata": {},
          "output_type": "execute_result"
        }
      ],
      "source": [
        "len(docs)\n",
        "docs[0]"
      ]
    },
    {
      "cell_type": "code",
      "execution_count": null,
      "metadata": {
        "id": "c_ZpIROhoU0f"
      },
      "outputs": [],
      "source": [
        "from langchain_text_splitters import RecursiveCharacterTextSplitter\n",
        "\n",
        "# Initialize the text splitter\n",
        "text_splitter = RecursiveCharacterTextSplitter(chunk_size=400, chunk_overlap=50)\n",
        "\n",
        "# Split the documents into chunks\n",
        "splits = text_splitter.split_documents(docs)"
      ]
    },
    {
      "cell_type": "code",
      "execution_count": null,
      "metadata": {
        "colab": {
          "base_uri": "https://localhost:8080/"
        },
        "id": "42mpO3rRoaY9",
        "outputId": "2545dde4-3a2b-492e-dbd6-59c7833fdc32"
      },
      "outputs": [
        {
          "data": {
            "text/plain": [
              "2632"
            ]
          },
          "execution_count": 15,
          "metadata": {},
          "output_type": "execute_result"
        }
      ],
      "source": [
        "len(splits)"
      ]
    },
    {
      "cell_type": "code",
      "execution_count": null,
      "metadata": {
        "id": "dlyc5kVMofyo"
      },
      "outputs": [],
      "source": [
        "from langchain_chroma import Chroma\n",
        "\n",
        "# Create a vector store from the document chunks\n",
        "vectorstore = Chroma.from_documents(documents=splits, embedding=embedding_model)\n",
        "retriever = vectorstore.as_retriever()"
      ]
    },
    {
      "cell_type": "code",
      "execution_count": null,
      "metadata": {
        "id": "lc8wMuProgom"
      },
      "outputs": [],
      "source": [
        "from langchain.prompts import ChatPromptTemplate\n",
        "\n",
        "# Define prompt template\n",
        "template = \"\"\"\n",
        "Answer this question using the provided context only.\n",
        "\n",
        "{question}\n",
        "\n",
        "Context:\n",
        "{context}\n",
        "\n",
        "Answer:\n",
        "\"\"\"\n",
        "\n",
        "prompt=ChatPromptTemplate.from_template(template)"
      ]
    },
    {
      "cell_type": "code",
      "execution_count": null,
      "metadata": {
        "colab": {
          "base_uri": "https://localhost:8080/"
        },
        "id": "r2SL7W6U1pbN",
        "outputId": "094943dc-0945-4ba4-fb6f-eb2ffa5f624f"
      },
      "outputs": [
        {
          "data": {
            "text/plain": [
              "ChatPromptTemplate(input_variables=['context', 'question'], input_types={}, partial_variables={}, messages=[HumanMessagePromptTemplate(prompt=PromptTemplate(input_variables=['context', 'question'], input_types={}, partial_variables={}, template='\\nAnswer this question using the provided context only.\\n\\n{question}\\n\\nContext:\\n{context}\\n\\nAnswer:\\n'), additional_kwargs={})])"
            ]
          },
          "execution_count": 18,
          "metadata": {},
          "output_type": "execute_result"
        }
      ],
      "source": [
        "prompt"
      ]
    },
    {
      "cell_type": "code",
      "execution_count": null,
      "metadata": {
        "colab": {
          "base_uri": "https://localhost:8080/"
        },
        "id": "oJQsGl02oo89",
        "outputId": "fa3f9db3-5ec7-48a9-fc4e-a0cb6e89399d"
      },
      "outputs": [
        {
          "name": "stderr",
          "output_type": "stream",
          "text": [
            "Setting `pad_token_id` to `eos_token_id`:2 for open-end generation.\n"
          ]
        },
        {
          "name": "stdout",
          "output_type": "stream",
          "text": [
            "Human: \n",
            "Answer this question using the provided context only.\n",
            "\n",
            "\n",
            "\n",
            "Context:\n",
            "[Document(id='d44ecac4-023e-4fd3-a7a5-dc667cef14f9', metadata={'producer': 'pdfTeX-1.40.22', 'total_pages': 412, 'subject': '', 'moddate': '2023-02-15T16:21:30+00:00', 'title': 'Mathematics for Machine Learning', 'page': 10, 'trapped': '/False', 'creationdate': '2023-02-15T16:21:30+00:00', 'source': '/content/mml-book.pdf', 'author': 'Marc Peter Deisenroth, A. Aldo Faisal, Cheng Soon Ong', 'keywords': '', 'creator': 'LaTeX with hyperref', 'ptex.fullbanner': 'This is pdfTeX, Version 3.141592653-2.6-1.40.22 (TeX Live 2022/dev/Debian) kpathsea version 6.3.4/dev', 'page_label': '5'}, page_content='Samuel Ogunmola\\nSandeep Mavadia\\nSarvesh Nikumbh\\nSebastian Raschka\\nSenanayak Sesh Kumar Karri\\nSeung-Heon Baek\\nShahbaz Chaudhary\\nShakir Mohamed\\nShawn Berry\\nSheikh Abdul Raheem Ali\\nSheng Xue\\nSridhar Thiagarajan\\nSyed Nouman Hasany\\nSzymon Brych\\nThomas B¨uhler\\nTimur Sharapov\\nTom Melamed\\nVincent Adam\\nVincent Dutordoir\\nVu Minh\\nWasim Aftab\\nWen Zhi\\nWojciech Stokowiec\\nXiaonan Chong\\nXiaowei Zhang\\nYazhou Hao'), Document(id='cdaa2a5c-9d9a-4456-a822-93b4ca15e014', metadata={'page_label': '398', 'source': '/content/mml-book.pdf', 'ptex.fullbanner': 'This is pdfTeX, Version 3.141592653-2.6-1.40.22 (TeX Live 2022/dev/Debian) kpathsea version 6.3.4/dev', 'creator': 'LaTeX with hyperref', 'total_pages': 412, 'trapped': '/False', 'author': 'Marc Peter Deisenroth, A. Aldo Faisal, Cheng Soon Ong', 'moddate': '2023-02-15T16:21:30+00:00', 'page': 403, 'creationdate': '2023-02-15T16:21:30+00:00', 'keywords': '', 'producer': 'pdfTeX-1.40.22', 'subject': '', 'title': 'Mathematics for Machine Learning'}, page_content='Goodfellow, Ian, Bengio, Yoshua, and Courville, Aaron. 2016. Deep Learning. MIT\\nPress.\\nGraepel, Thore, Candela, Joaquin Qui ˜nonero-Candela, Borchert, Thomas, and Her-\\nbrich, Ralf. 2010. Web-Scale Bayesian Click-through Rate Prediction for Sponsored\\nSearch Advertising in Microsoft’s Bing Search Engine. In: Proceedings of the Interna-\\ntional Conference on Machine Learning.'), Document(id='7a0f28de-66e5-4616-9a9f-7bd307fc7e58', metadata={'source': '/content/mml-book.pdf', 'moddate': '2023-02-15T16:21:30+00:00', 'subject': '', 'producer': 'pdfTeX-1.40.22', 'trapped': '/False', 'page': 186, 'keywords': '', 'title': 'Mathematics for Machine Learning', 'author': 'Marc Peter Deisenroth, A. Aldo Faisal, Cheng Soon Ong', 'total_pages': 412, 'creationdate': '2023-02-15T16:21:30+00:00', 'page_label': '181', 'creator': 'LaTeX with hyperref', 'ptex.fullbanner': 'This is pdfTeX, Version 3.141592653-2.6-1.40.22 (TeX Live 2022/dev/Debian) kpathsea version 6.3.4/dev'}, page_content='the pdf f(x). ♢\\n©2021 M. P. Deisenroth, A. A. Faisal, C. S. Ong. Published by Cambridge University Press (2020).'), Document(id='df7e3459-a9b4-43f8-9862-28271c658f97', metadata={'title': 'Mathematics for Machine Learning', 'page': 134, 'keywords': '', 'creator': 'LaTeX with hyperref', 'moddate': '2023-02-15T16:21:30+00:00', 'page_label': '129', 'source': '/content/mml-book.pdf', 'creationdate': '2023-02-15T16:21:30+00:00', 'trapped': '/False', 'producer': 'pdfTeX-1.40.22', 'ptex.fullbanner': 'This is pdfTeX, Version 3.141592653-2.6-1.40.22 (TeX Live 2022/dev/Debian) kpathsea version 6.3.4/dev', 'total_pages': 412, 'author': 'Marc Peter Deisenroth, A. Aldo Faisal, Cheng Soon Ong', 'subject': ''}, page_content='represented by a matrix A ∈ R1432×1910, and some outer products Ai, as\\ndefined in (4.90).\\n©2021 M. P. Deisenroth, A. A. Faisal, C. S. Ong. Published by Cambridge University Press (2020).')]\n",
            "\n",
            "Answer:\n",
            "The context provided is from a PDF document titled 'Mathematics for Machine Learning'. The document was produced using LaTeX with hyperref and pdfTeX-1.40.22. It contains 412 pages and was last modified on February 15, 2023. The document includes contributions from various authors, including Marc Peter Deisenroth, A. Aldo Faisal, and Cheng Soon Ong. The content of the document covers various topics related to mathematics for machine learning. Specifically, it mentions the representation of data by a matrix A and some outer products Ai.\n"
          ]
        }
      ],
      "source": [
        "from langchain.schema.runnable import RunnablePassthrough\n",
        "\n",
        "chain = (\n",
        "    {\"context\": retriever,  \"question\": RunnablePassthrough()}\n",
        "    | prompt\n",
        "    | llm\n",
        "    | output_parser\n",
        ")\n",
        "\n",
        "response = chain.invoke(\"\")\n",
        "print(response)"
      ]
    },
    {
      "cell_type": "code",
      "execution_count": null,
      "metadata": {
        "colab": {
          "base_uri": "https://localhost:8080/"
        },
        "id": "xBxgUFoL5PId",
        "outputId": "e6ac23bb-d0ae-4b1d-ae79-bc80465a9c62"
      },
      "outputs": [
        {
          "name": "stderr",
          "output_type": "stream",
          "text": [
            "Setting `pad_token_id` to `eos_token_id`:2 for open-end generation.\n"
          ]
        },
        {
          "name": "stdout",
          "output_type": "stream",
          "text": [
            "Human: \n",
            "Answer this question using the provided context only.\n",
            "\n",
            "what is Continuous Optimization\n",
            "\n",
            "Context:\n",
            "[Document(id='b54efcd0-0b94-49f4-aff1-bfa64d1d434b', metadata={'title': 'Mathematics for Machine Learning', 'moddate': '2023-02-15T16:21:30+00:00', 'author': 'Marc Peter Deisenroth, A. Aldo Faisal, Cheng Soon Ong', 'creator': 'LaTeX with hyperref', 'producer': 'pdfTeX-1.40.22', 'keywords': '', 'ptex.fullbanner': 'This is pdfTeX, Version 3.141592653-2.6-1.40.22 (TeX Live 2022/dev/Debian) kpathsea version 6.3.4/dev', 'total_pages': 412, 'page_label': '226', 'subject': '', 'source': '/content/mml-book.pdf', 'creationdate': '2023-02-15T16:21:30+00:00', 'trapped': '/False', 'page': 231}, page_content='226 Continuous Optimization\\nFigure 7.2 A mind\\nmap of the concepts\\nrelated to\\noptimization, as\\npresented in this\\nchapter. There are\\ntwo main ideas:\\ngradient descent\\nand convex\\noptimization.\\nContinuousoptimization\\nUnconstrainedoptimization\\nConstrainedoptimization\\nGradient descent\\nStepsize\\nMomentum\\nStochasticgradientdescent\\nLagrangemultipliers\\nConvex optimization& duality\\nConvex\\nConvex conjugate'), Document(id='945b7f5b-43c1-42f9-a1e3-4902ea2d175e', metadata={'source': '/content/mml-book.pdf', 'trapped': '/False', 'title': 'Mathematics for Machine Learning', 'total_pages': 412, 'producer': 'pdfTeX-1.40.22', 'creationdate': '2023-02-15T16:21:30+00:00', 'page': 251, 'ptex.fullbanner': 'This is pdfTeX, Version 3.141592653-2.6-1.40.22 (TeX Live 2022/dev/Debian) kpathsea version 6.3.4/dev', 'keywords': '', 'page_label': '246', 'author': 'Marc Peter Deisenroth, A. Aldo Faisal, Cheng Soon Ong', 'subject': '', 'creator': 'LaTeX with hyperref', 'moddate': '2023-02-15T16:21:30+00:00'}, page_content='problem.\\n7.4 Further Reading\\nContinuous optimization is an active area of research, and we do not try\\nto provide a comprehensive account of recent advances.\\nFrom a gradient descent perspective, there are two major weaknesses\\nwhich each have their own set of literature. The first challenge is the fact\\nthat gradient descent is a first-order algorithm, and does not use infor-'), Document(id='5b1cf76a-079f-4231-b315-0bdb04f0125b', metadata={'page_label': '230', 'creator': 'LaTeX with hyperref', 'producer': 'pdfTeX-1.40.22', 'author': 'Marc Peter Deisenroth, A. Aldo Faisal, Cheng Soon Ong', 'page': 235, 'ptex.fullbanner': 'This is pdfTeX, Version 3.141592653-2.6-1.40.22 (TeX Live 2022/dev/Debian) kpathsea version 6.3.4/dev', 'creationdate': '2023-02-15T16:21:30+00:00', 'trapped': '/False', 'moddate': '2023-02-15T16:21:30+00:00', 'title': 'Mathematics for Machine Learning', 'source': '/content/mml-book.pdf', 'total_pages': 412, 'keywords': '', 'subject': ''}, page_content='230 Continuous Optimization\\nAlthough the “undo” step seems to be a waste of resources, using this\\nheuristic guarantees monotonic convergence.\\nExample 7.2 (Solving a Linear Equation System)\\nWhen we solve linear equations of the form Ax = b, in practice we solve\\nAx−b = 0 approximately by finding x∗ that minimizes the squared error\\n∥Ax − b∥2 = (Ax − b)⊤(Ax − b) (7.9)'), Document(id='6d007232-95eb-4a69-ba1b-4f0a410c2f7c', metadata={'trapped': '/False', 'subject': '', 'author': 'Marc Peter Deisenroth, A. Aldo Faisal, Cheng Soon Ong', 'source': '/content/mml-book.pdf', 'page': 251, 'keywords': '', 'producer': 'pdfTeX-1.40.22', 'creationdate': '2023-02-15T16:21:30+00:00', 'total_pages': 412, 'moddate': '2023-02-15T16:21:30+00:00', 'ptex.fullbanner': 'This is pdfTeX, Version 3.141592653-2.6-1.40.22 (TeX Live 2022/dev/Debian) kpathsea version 6.3.4/dev', 'title': 'Mathematics for Machine Learning', 'creator': 'LaTeX with hyperref', 'page_label': '246'}, page_content='In these cases, subgradient methods can be used (Shor, 1985). For fur-\\nther information and algorithms for optimizing non-differentiable func-\\ntions, we refer to the book by Bertsekas (1999). There is a vast amount\\nof literature on different approaches for numerically solving continuous\\noptimization problems, including algorithms for constrained optimization')]\n",
            "\n",
            "Answer:\n",
            "Continuous optimization refers to the process of finding the optimal solution for a mathematical function, where the independent and dependent variables can take any real value. It is a subfield of optimization, which also includes discrete optimization. The context provided discusses the use of gradient descent and convex optimization for continuous optimization problems, as well as the challenges and alternative methods for addressing the limitations of gradient descent.\n"
          ]
        }
      ],
      "source": [
        "response = chain.invoke(\"what is Continuous Optimization\")\n",
        "print(response)"
      ]
    },
    {
      "cell_type": "code",
      "execution_count": null,
      "metadata": {
        "colab": {
          "base_uri": "https://localhost:8080/"
        },
        "id": "rSsLpY6x5yDb",
        "outputId": "83b7d750-a4bb-47a1-fb0c-b253a7dc16d2"
      },
      "outputs": [
        {
          "name": "stderr",
          "output_type": "stream",
          "text": [
            "Setting `pad_token_id` to `eos_token_id`:2 for open-end generation.\n"
          ]
        },
        {
          "name": "stdout",
          "output_type": "stream",
          "text": [
            "Human: \n",
            "Answer this question using the provided context only.\n",
            "\n",
            "explain about Geometric vectors\n",
            "\n",
            "Context:\n",
            "[Document(id='416609f6-2cce-4a3f-bffb-383fba91d546', metadata={'total_pages': 412, 'creationdate': '2023-02-15T16:21:30+00:00', 'ptex.fullbanner': 'This is pdfTeX, Version 3.141592653-2.6-1.40.22 (TeX Live 2022/dev/Debian) kpathsea version 6.3.4/dev', 'trapped': '/False', 'moddate': '2023-02-15T16:21:30+00:00', 'page_label': '17', 'subject': '', 'title': 'Mathematics for Machine Learning', 'author': 'Marc Peter Deisenroth, A. Aldo Faisal, Cheng Soon Ong', 'page': 22, 'producer': 'pdfTeX-1.40.22', 'source': '/content/mml-book.pdf', 'keywords': '', 'creator': 'LaTeX with hyperref'}, page_content='→\\nx,\\n→\\ny can be added, such that\\n→\\nx+\\n→\\ny =\\n→\\nz\\nis another geometric vector. Furthermore, multiplication by a scalar\\nλ\\n→\\nx, λ ∈ R, is also a geometric vector. In fact, it is the original vector\\nscaled by λ. Therefore, geometric vectors are instances of the vector\\nconcepts introduced previously . Interpreting vectors as geometric vec-'), Document(id='79c670ce-3823-4d76-aab6-7a82658b1426', metadata={'author': 'Marc Peter Deisenroth, A. Aldo Faisal, Cheng Soon Ong', 'subject': '', 'page_label': '70', 'moddate': '2023-02-15T16:21:30+00:00', 'creationdate': '2023-02-15T16:21:30+00:00', 'source': '/content/mml-book.pdf', 'title': 'Mathematics for Machine Learning', 'creator': 'LaTeX with hyperref', 'trapped': '/False', 'total_pages': 412, 'page': 75, 'keywords': '', 'producer': 'pdfTeX-1.40.22', 'ptex.fullbanner': 'This is pdfTeX, Version 3.141592653-2.6-1.40.22 (TeX Live 2022/dev/Debian) kpathsea version 6.3.4/dev'}, page_content='3\\nAnalytic Geometry\\nIn Chapter 2, we studied vectors, vector spaces, and linear mappings at\\na general but abstract level. In this chapter, we will add some geomet-\\nric interpretation and intuition to all of these concepts. In particular, we\\nwill look at geometric vectors and compute their lengths and distances\\nor angles between two vectors. To be able to do this, we equip the vec-'), Document(id='0485a9d1-7efe-4af4-a283-4dda71e08aea', metadata={'ptex.fullbanner': 'This is pdfTeX, Version 3.141592653-2.6-1.40.22 (TeX Live 2022/dev/Debian) kpathsea version 6.3.4/dev', 'trapped': '/False', 'page_label': '17', 'total_pages': 412, 'title': 'Mathematics for Machine Learning', 'creator': 'LaTeX with hyperref', 'creationdate': '2023-02-15T16:21:30+00:00', 'source': '/content/mml-book.pdf', 'keywords': '', 'page': 22, 'author': 'Marc Peter Deisenroth, A. Aldo Faisal, Cheng Soon Ong', 'moddate': '2023-02-15T16:21:30+00:00', 'subject': '', 'producer': 'pdfTeX-1.40.22'}, page_content='above the letter, e.g., − →x and − →y . In this book, we discuss more general\\nconcepts of vectors and use a bold letter to represent them, e.g., x and y.\\nIn general, vectors are special objects that can be added together and\\nmultiplied by scalars to produce another object of the same kind. From\\nan abstract mathematical viewpoint, any object that satisfies these two'), Document(id='2848856a-1e67-4bc1-9d7a-b33c837f1596', metadata={'page_label': '373', 'author': 'Marc Peter Deisenroth, A. Aldo Faisal, Cheng Soon Ong', 'moddate': '2023-02-15T16:21:30+00:00', 'trapped': '/False', 'creator': 'LaTeX with hyperref', 'keywords': '', 'subject': '', 'total_pages': 412, 'producer': 'pdfTeX-1.40.22', 'ptex.fullbanner': 'This is pdfTeX, Version 3.141592653-2.6-1.40.22 (TeX Live 2022/dev/Debian) kpathsea version 6.3.4/dev', 'source': '/content/mml-book.pdf', 'page': 378, 'creationdate': '2023-02-15T16:21:30+00:00', 'title': 'Mathematics for Machine Learning'}, page_content='Remark. Recall from Chapter 2 that we can think of vectors in different\\nways. In this chapter, we think of the parameter vector w as an arrow\\nindicating a direction, i.e., we consider w to be a geometric vector. In\\ncontrast, we think of the example vector x as a data point (as indicated\\nby its coordinates), i.e., we consider x to be the coordinates of a vector')]\n",
            "\n",
            "Answer:\n",
            "Geometric vectors, as described in the context, are instances of the vector concept introduced previously. They can be represented as arrows or directions in space. Geometric vectors can be added together and multiplied by scalars, resulting in another geometric vector. The context also mentions that the length and distances or angles between two geometric vectors can be computed. This geometrical interpretation adds intuition to the abstract concepts of vectors, vector spaces, and linear mappings discussed earlier.\n"
          ]
        }
      ],
      "source": [
        "response = chain.invoke(\"explain about Geometric vectors\")\n",
        "print(response)"
      ]
    },
    {
      "cell_type": "code",
      "execution_count": null,
      "metadata": {
        "id": "-q38n1nwAp_8"
      },
      "outputs": [],
      "source": [
        "import nbformat\n",
        "\n",
        "path = \"your_notebook.ipynb\"\n",
        "nb = nbformat.read(path, as_version=4)\n",
        "\n",
        "# Reset metadata completely (removes broken widget refs)\n",
        "nb.metadata.pop(\"widgets\", None)\n",
        "\n",
        "nbformat.write(nb, path)\n",
        "print(\"Fixed notebook saved!\")\n"
      ]
    }
  ],
  "metadata": {
    "accelerator": "GPU",
    "colab": {
      "gpuType": "T4",
      "provenance": [],
      "include_colab_link": true
    },
    "kernelspec": {
      "display_name": "Python 3",
      "name": "python3"
    },
    "language_info": {
      "name": "python"
    }
  },
  "nbformat": 4,
  "nbformat_minor": 0
}